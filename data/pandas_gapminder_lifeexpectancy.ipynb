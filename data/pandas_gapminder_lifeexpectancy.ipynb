{
 "cells": [
  {
   "cell_type": "code",
   "execution_count": 1,
   "metadata": {},
   "outputs": [],
   "source": [
    "import pandas as pd"
   ]
  },
  {
   "cell_type": "code",
   "execution_count": 15,
   "metadata": {},
   "outputs": [
    {
     "data": {
      "text/html": [
       "<div>\n",
       "<style scoped>\n",
       "    .dataframe tbody tr th:only-of-type {\n",
       "        vertical-align: middle;\n",
       "    }\n",
       "\n",
       "    .dataframe tbody tr th {\n",
       "        vertical-align: top;\n",
       "    }\n",
       "\n",
       "    .dataframe thead th {\n",
       "        text-align: right;\n",
       "    }\n",
       "</style>\n",
       "<table border=\"1\" class=\"dataframe\">\n",
       "  <thead>\n",
       "    <tr style=\"text-align: right;\">\n",
       "      <th></th>\n",
       "      <th>1800.0</th>\n",
       "      <th>1801.0</th>\n",
       "      <th>1802.0</th>\n",
       "      <th>1803.0</th>\n",
       "      <th>1804.0</th>\n",
       "      <th>1805.0</th>\n",
       "      <th>1806.0</th>\n",
       "      <th>1807.0</th>\n",
       "      <th>1808.0</th>\n",
       "      <th>1809.0</th>\n",
       "      <th>...</th>\n",
       "      <th>2007.0</th>\n",
       "      <th>2008.0</th>\n",
       "      <th>2009.0</th>\n",
       "      <th>2010.0</th>\n",
       "      <th>2011.0</th>\n",
       "      <th>2012.0</th>\n",
       "      <th>2013.0</th>\n",
       "      <th>2014.0</th>\n",
       "      <th>2015.0</th>\n",
       "      <th>2016.0</th>\n",
       "    </tr>\n",
       "    <tr>\n",
       "      <th>Life expectancy</th>\n",
       "      <th></th>\n",
       "      <th></th>\n",
       "      <th></th>\n",
       "      <th></th>\n",
       "      <th></th>\n",
       "      <th></th>\n",
       "      <th></th>\n",
       "      <th></th>\n",
       "      <th></th>\n",
       "      <th></th>\n",
       "      <th></th>\n",
       "      <th></th>\n",
       "      <th></th>\n",
       "      <th></th>\n",
       "      <th></th>\n",
       "      <th></th>\n",
       "      <th></th>\n",
       "      <th></th>\n",
       "      <th></th>\n",
       "      <th></th>\n",
       "      <th></th>\n",
       "    </tr>\n",
       "  </thead>\n",
       "  <tbody>\n",
       "    <tr>\n",
       "      <th>Abkhazia</th>\n",
       "      <td>NaN</td>\n",
       "      <td>NaN</td>\n",
       "      <td>NaN</td>\n",
       "      <td>NaN</td>\n",
       "      <td>NaN</td>\n",
       "      <td>NaN</td>\n",
       "      <td>NaN</td>\n",
       "      <td>NaN</td>\n",
       "      <td>NaN</td>\n",
       "      <td>NaN</td>\n",
       "      <td>...</td>\n",
       "      <td>NaN</td>\n",
       "      <td>NaN</td>\n",
       "      <td>NaN</td>\n",
       "      <td>NaN</td>\n",
       "      <td>NaN</td>\n",
       "      <td>NaN</td>\n",
       "      <td>NaN</td>\n",
       "      <td>NaN</td>\n",
       "      <td>NaN</td>\n",
       "      <td>NaN</td>\n",
       "    </tr>\n",
       "    <tr>\n",
       "      <th>Afghanistan</th>\n",
       "      <td>28.21</td>\n",
       "      <td>28.2</td>\n",
       "      <td>28.19</td>\n",
       "      <td>28.18</td>\n",
       "      <td>28.17</td>\n",
       "      <td>28.16</td>\n",
       "      <td>28.15</td>\n",
       "      <td>28.14</td>\n",
       "      <td>28.13</td>\n",
       "      <td>28.12</td>\n",
       "      <td>...</td>\n",
       "      <td>52.4</td>\n",
       "      <td>52.8</td>\n",
       "      <td>53.3</td>\n",
       "      <td>53.6</td>\n",
       "      <td>54.0</td>\n",
       "      <td>54.4</td>\n",
       "      <td>54.8</td>\n",
       "      <td>54.9</td>\n",
       "      <td>53.8</td>\n",
       "      <td>52.72</td>\n",
       "    </tr>\n",
       "  </tbody>\n",
       "</table>\n",
       "<p>2 rows × 217 columns</p>\n",
       "</div>"
      ],
      "text/plain": [
       "                 1800.0  1801.0  1802.0  1803.0  1804.0  1805.0  1806.0  \\\n",
       "Life expectancy                                                           \n",
       "Abkhazia            NaN     NaN     NaN     NaN     NaN     NaN     NaN   \n",
       "Afghanistan       28.21    28.2   28.19   28.18   28.17   28.16   28.15   \n",
       "\n",
       "                 1807.0  1808.0  1809.0  ...  2007.0  2008.0  2009.0  2010.0  \\\n",
       "Life expectancy                          ...                                   \n",
       "Abkhazia            NaN     NaN     NaN  ...     NaN     NaN     NaN     NaN   \n",
       "Afghanistan       28.14   28.13   28.12  ...    52.4    52.8    53.3    53.6   \n",
       "\n",
       "                 2011.0  2012.0  2013.0  2014.0  2015.0  2016.0  \n",
       "Life expectancy                                                  \n",
       "Abkhazia            NaN     NaN     NaN     NaN     NaN     NaN  \n",
       "Afghanistan        54.0    54.4    54.8    54.9    53.8   52.72  \n",
       "\n",
       "[2 rows x 217 columns]"
      ]
     },
     "execution_count": 15,
     "metadata": {},
     "output_type": "execute_result"
    }
   ],
   "source": [
    "#Load the life expectancy data from the gapminder_lifeexpectancy.xlsx file \n",
    "#into a pandas DataFrame.\n",
    "\n",
    "df = pd.read_excel(\"gapminder_lifeexpectancy.xlsx\", index_col=0)"
   ]
  },
  {
   "cell_type": "code",
   "execution_count": 38,
   "metadata": {},
   "outputs": [
    {
     "data": {
      "text/html": [
       "<div>\n",
       "<style scoped>\n",
       "    .dataframe tbody tr th:only-of-type {\n",
       "        vertical-align: middle;\n",
       "    }\n",
       "\n",
       "    .dataframe tbody tr th {\n",
       "        vertical-align: top;\n",
       "    }\n",
       "\n",
       "    .dataframe thead th {\n",
       "        text-align: right;\n",
       "    }\n",
       "</style>\n",
       "<table border=\"1\" class=\"dataframe\">\n",
       "  <thead>\n",
       "    <tr style=\"text-align: right;\">\n",
       "      <th></th>\n",
       "      <th>1950.0</th>\n",
       "      <th>1975.0</th>\n",
       "      <th>2000.0</th>\n",
       "      <th>2015.0</th>\n",
       "    </tr>\n",
       "    <tr>\n",
       "      <th>Life expectancy</th>\n",
       "      <th></th>\n",
       "      <th></th>\n",
       "      <th></th>\n",
       "      <th></th>\n",
       "    </tr>\n",
       "  </thead>\n",
       "  <tbody>\n",
       "    <tr>\n",
       "      <th>Abkhazia</th>\n",
       "      <td>NaN</td>\n",
       "      <td>NaN</td>\n",
       "      <td>NaN</td>\n",
       "      <td>NaN</td>\n",
       "    </tr>\n",
       "    <tr>\n",
       "      <th>Afghanistan</th>\n",
       "      <td>26.85</td>\n",
       "      <td>39.61</td>\n",
       "      <td>50.1</td>\n",
       "      <td>53.8</td>\n",
       "    </tr>\n",
       "    <tr>\n",
       "      <th>Akrotiri and Dhekelia</th>\n",
       "      <td>NaN</td>\n",
       "      <td>NaN</td>\n",
       "      <td>NaN</td>\n",
       "      <td>NaN</td>\n",
       "    </tr>\n",
       "    <tr>\n",
       "      <th>Albania</th>\n",
       "      <td>54.48</td>\n",
       "      <td>69.77</td>\n",
       "      <td>74.7</td>\n",
       "      <td>78.0</td>\n",
       "    </tr>\n",
       "    <tr>\n",
       "      <th>Algeria</th>\n",
       "      <td>42.77</td>\n",
       "      <td>55.24</td>\n",
       "      <td>73.3</td>\n",
       "      <td>76.4</td>\n",
       "    </tr>\n",
       "    <tr>\n",
       "      <th>...</th>\n",
       "      <td>...</td>\n",
       "      <td>...</td>\n",
       "      <td>...</td>\n",
       "      <td>...</td>\n",
       "    </tr>\n",
       "    <tr>\n",
       "      <th>Yugoslavia</th>\n",
       "      <td>NaN</td>\n",
       "      <td>NaN</td>\n",
       "      <td>NaN</td>\n",
       "      <td>NaN</td>\n",
       "    </tr>\n",
       "    <tr>\n",
       "      <th>Zambia</th>\n",
       "      <td>42.85</td>\n",
       "      <td>56.70</td>\n",
       "      <td>44.8</td>\n",
       "      <td>56.7</td>\n",
       "    </tr>\n",
       "    <tr>\n",
       "      <th>Zimbabwe</th>\n",
       "      <td>48.46</td>\n",
       "      <td>59.41</td>\n",
       "      <td>47.9</td>\n",
       "      <td>59.3</td>\n",
       "    </tr>\n",
       "    <tr>\n",
       "      <th>Åland</th>\n",
       "      <td>NaN</td>\n",
       "      <td>NaN</td>\n",
       "      <td>80.0</td>\n",
       "      <td>NaN</td>\n",
       "    </tr>\n",
       "    <tr>\n",
       "      <th>South Sudan</th>\n",
       "      <td>28.14</td>\n",
       "      <td>42.93</td>\n",
       "      <td>54.4</td>\n",
       "      <td>56.1</td>\n",
       "    </tr>\n",
       "  </tbody>\n",
       "</table>\n",
       "<p>260 rows × 4 columns</p>\n",
       "</div>"
      ],
      "text/plain": [
       "                       1950.0  1975.0  2000.0  2015.0\n",
       "Life expectancy                                      \n",
       "Abkhazia                  NaN     NaN     NaN     NaN\n",
       "Afghanistan             26.85   39.61    50.1    53.8\n",
       "Akrotiri and Dhekelia     NaN     NaN     NaN     NaN\n",
       "Albania                 54.48   69.77    74.7    78.0\n",
       "Algeria                 42.77   55.24    73.3    76.4\n",
       "...                       ...     ...     ...     ...\n",
       "Yugoslavia                NaN     NaN     NaN     NaN\n",
       "Zambia                  42.85   56.70    44.8    56.7\n",
       "Zimbabwe                48.46   59.41    47.9    59.3\n",
       "Åland                     NaN     NaN    80.0     NaN\n",
       "South Sudan             28.14   42.93    54.4    56.1\n",
       "\n",
       "[260 rows x 4 columns]"
      ]
     },
     "execution_count": 38,
     "metadata": {},
     "output_type": "execute_result"
    }
   ],
   "source": [
    "#Step 2: Select a few columns with years. \n",
    "#Note that the columns read from Excel are integer values.\n",
    "lifeexp = df[[1950, 1975, 2000, 2015]]\n",
    "lifeexp"
   ]
  },
  {
   "cell_type": "code",
   "execution_count": 4,
   "metadata": {},
   "outputs": [
    {
     "data": {
      "image/png": "[encoded data removed]",
      "text/plain": [
       "<Figure size 432x288 with 1 Axes>"
      ]
     },
     "metadata": {
      "needs_background": "light"
     },
     "output_type": "display_data"
    }
   ],
   "source": [
    "#Step 3: Draw a histogram for 2015 with the default settings.\n",
    "import matplotlib.pyplot as plt\n",
    "df[[2015]].hist()\n",
    "plt.savefig('histo.png')"
   ]
  },
  {
   "cell_type": "code",
   "execution_count": 5,
   "metadata": {},
   "outputs": [
    {
     "data": {
      "text/plain": [
       "<AxesSubplot:>"
      ]
     },
     "execution_count": 5,
     "metadata": {},
     "output_type": "execute_result"
    },
    {
     "data": {
      "image/png": "[encoded data removed]",
      "text/plain": [
       "<Figure size 432x288 with 1 Axes>"
      ]
     },
     "metadata": {
      "needs_background": "light"
     },
     "output_type": "display_data"
    }
   ],
   "source": [
    "#Step 4: Try a few values for the number of bins.\n",
    "\n",
    "df[2015].hist(bins=30)"
   ]
  },
  {
   "cell_type": "code",
   "execution_count": 6,
   "metadata": {},
   "outputs": [
    {
     "data": {
      "text/plain": [
       "Text(0, 0.5, 'number of countries')"
      ]
     },
     "execution_count": 6,
     "metadata": {},
     "output_type": "execute_result"
    },
    {
     "data": {
      "image/png": "[encoded data removed]",
      "text/plain": [
       "<Figure size 432x288 with 1 Axes>"
      ]
     },
     "metadata": {
      "needs_background": "light"
     },
     "output_type": "display_data"
    }
   ],
   "source": [
    "#Step 5: Modify the plot using some matplotlib functions.\n",
    "df[2015].hist(bins=30)\n",
    "plt.title('lifeexpectancy 2015')\n",
    "plt.xlabel('lifeexpectancy')\n",
    "plt.ylabel('number of countries')"
   ]
  },
  {
   "cell_type": "code",
   "execution_count": 7,
   "metadata": {},
   "outputs": [
    {
     "data": {
      "text/plain": [
       "(40.0, 100.0, 0.0, 20.0)"
      ]
     },
     "execution_count": 7,
     "metadata": {},
     "output_type": "execute_result"
    },
    {
     "data": {
      "image/png": "[encoded data removed]",
      "text/plain": [
       "<Figure size 432x288 with 1 Axes>"
      ]
     },
     "metadata": {
      "needs_background": "light"
     },
     "output_type": "display_data"
    }
   ],
   "source": [
    "#Step 6: Set the min/max x and y values with plt.axis.\n",
    "df[2015].hist(bins=30)\n",
    "plt.title('lifeexpectancy 2015')\n",
    "plt.xlabel('lifeexpectancy')\n",
    "plt.ylabel('number of countries')\n",
    "plt.axis([40.0, 100.0, 0.0, 20.0])"
   ]
  },
  {
   "cell_type": "code",
   "execution_count": 47,
   "metadata": {},
   "outputs": [
    {
     "data": {
      "text/plain": [
       "(40.0, 100.0, 0.0, 20.0)"
      ]
     },
     "execution_count": 47,
     "metadata": {},
     "output_type": "execute_result"
    },
    {
     "data": {
      "image/png": "[encoded data removed]",
      "text/plain": [
       "<Figure size 432x288 with 1 Axes>"
      ]
     },
     "metadata": {
      "needs_background": "light"
     },
     "output_type": "display_data"
    }
   ],
   "source": [
    "#Step 7: Try some optional parameters for the hist() function, e.g.:\n",
    "df[2015].hist(bins=30, facecolor='#ff0000',alpha=0.25, histtype='bar',)\n",
    "plt.title('lifeexpectancy 2015')\n",
    "plt.xlabel('lifeexpectancy')\n",
    "plt.ylabel('number of countries')\n",
    "plt.axis([40.0, 100.0, 0.0, 20.0])\n"
   ]
  },
  {
   "cell_type": "code",
   "execution_count": 50,
   "metadata": {},
   "outputs": [
    {
     "data": {
      "image/png": "[encoded data removed]",
      "text/plain": [
       "<Figure size 432x288 with 1 Axes>"
      ]
     },
     "metadata": {
      "needs_background": "light"
     },
     "output_type": "display_data"
    }
   ],
   "source": [
    "#Step 8: Set the resolution of the image that is written.\n",
    "df[2015].hist(bins=30, facecolor='#ff0000',alpha=0.25, histtype='bar',)\n",
    "plt.title('lifeexpectancy 2015')\n",
    "plt.xlabel('lifeexpectancy')\n",
    "plt.ylabel('number of countries')\n",
    "plt.axis([40.0, 100.0, 0.0, 20.0])\n",
    "plt.savefig('gapminder_lifeexpentancy_hist.svg', dpi=150)\n",
    "\n",
    "#What advantages and disadvantages do the formats PNG and SVG have?\n",
    "# SVGs offer lossless compression — which means they’re compressible to smaller file sizes \n",
    "# at no cost to their definition, detail or quality. PNGs also benefit from lossless compression of 5-20%, \n",
    "# which can help to make up for their large file size. However, they’re still likely to be larger than an SVG."
   ]
  },
  {
   "cell_type": "code",
   "execution_count": 40,
   "metadata": {},
   "outputs": [
    {
     "name": "stdout",
     "output_type": "stream",
     "text": [
      "<class 'pandas.core.frame.DataFrame'>\n",
      "Index: 260 entries, Abkhazia to South Sudan\n",
      "Columns: 217 entries, 1800.0 to 2016.0\n",
      "dtypes: float64(217)\n",
      "memory usage: 442.8+ KB\n"
     ]
    }
   ],
   "source": [
    "#Step 9: create a scatter plot.\n",
    "#plt.scatter(x=df.index, y=lifeexp)\n",
    "#plt.show\n",
    "df.info()   "
   ]
  },
  {
   "cell_type": "code",
   "execution_count": null,
   "metadata": {},
   "outputs": [],
   "source": []
  }
 ],
 "metadata": {
  "kernelspec": {
   "display_name": "Python 3.9.12 ('base')",
   "language": "python",
   "name": "python3"
  },
  "language_info": {
   "codemirror_mode": {
    "name": "ipython",
    "version": 3
   },
   "file_extension": ".py",
   "mimetype": "text/x-python",
   "name": "python",
   "nbconvert_exporter": "python",
   "pygments_lexer": "ipython3",
   "version": "3.9.12 (main, Apr  4 2022, 05:22:27) [MSC v.1916 64 bit (AMD64)]"
  },
  "orig_nbformat": 4,
  "vscode": {
   "interpreter": {
    "hash": "8333b6e2a113313f88e116f0ae5caee3f5ceaeff6728e0856dee062203d1f90b"
   }
  }
 },
 "nbformat": 4,
 "nbformat_minor": 2
}
